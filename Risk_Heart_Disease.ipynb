{
  "cells": [
    {
      "cell_type": "code",
      "execution_count": null,
      "metadata": {
        "id": "z5I-JHpbbvFw"
      },
      "outputs": [],
      "source": [
        "import pandas as pd\n",
        "import numpy as np\n",
        "from sklearn.model_selection import train_test_split\n",
        "from sklearn.preprocessing import StandardScaler\n",
        "from sklearn.linear_model import LogisticRegression\n",
        "from sklearn.metrics import accuracy_score, classification_report, confusion_matrix"
      ]
    },
    {
      "cell_type": "code",
      "execution_count": null,
      "metadata": {
        "colab": {
          "base_uri": "https://localhost:8080/"
        },
        "id": "d-GlhSRkbyeV",
        "outputId": "18b560b9-2519-4563-db5e-018e5be6d7a6"
      },
      "outputs": [
        {
          "name": "stdout",
          "output_type": "stream",
          "text": [
            "   id  age  education sex is_smoking  cigsPerDay  BPMeds  prevalentStroke  \\\n",
            "0   0   64        2.0   F        YES         3.0     0.0                0   \n",
            "1   1   36        4.0   M         NO         0.0     0.0                0   \n",
            "2   2   46        1.0   F        YES        10.0     0.0                0   \n",
            "3   3   50        1.0   M        YES        20.0     0.0                0   \n",
            "4   4   64        1.0   F        YES        30.0     0.0                0   \n",
            "\n",
            "   prevalentHyp  diabetes  totChol  sysBP  diaBP    BMI  heartRate  glucose  \\\n",
            "0             0         0    221.0  148.0   85.0    NaN       90.0     80.0   \n",
            "1             1         0    212.0  168.0   98.0  29.77       72.0     75.0   \n",
            "2             0         0    250.0  116.0   71.0  20.35       88.0     94.0   \n",
            "3             1         0    233.0  158.0   88.0  28.26       68.0     94.0   \n",
            "4             0         0    241.0  136.5   85.0  26.42       70.0     77.0   \n",
            "\n",
            "   TenYearCHD  \n",
            "0           1  \n",
            "1           0  \n",
            "2           0  \n",
            "3           1  \n",
            "4           0  \n",
            "<class 'pandas.core.frame.DataFrame'>\n",
            "RangeIndex: 3390 entries, 0 to 3389\n",
            "Data columns (total 17 columns):\n",
            " #   Column           Non-Null Count  Dtype  \n",
            "---  ------           --------------  -----  \n",
            " 0   id               3390 non-null   int64  \n",
            " 1   age              3390 non-null   int64  \n",
            " 2   education        3303 non-null   float64\n",
            " 3   sex              3390 non-null   object \n",
            " 4   is_smoking       3390 non-null   object \n",
            " 5   cigsPerDay       3368 non-null   float64\n",
            " 6   BPMeds           3346 non-null   float64\n",
            " 7   prevalentStroke  3390 non-null   int64  \n",
            " 8   prevalentHyp     3390 non-null   int64  \n",
            " 9   diabetes         3390 non-null   int64  \n",
            " 10  totChol          3352 non-null   float64\n",
            " 11  sysBP            3390 non-null   float64\n",
            " 12  diaBP            3390 non-null   float64\n",
            " 13  BMI              3376 non-null   float64\n",
            " 14  heartRate        3389 non-null   float64\n",
            " 15  glucose          3086 non-null   float64\n",
            " 16  TenYearCHD       3390 non-null   int64  \n",
            "dtypes: float64(9), int64(6), object(2)\n",
            "memory usage: 450.4+ KB\n",
            "None\n",
            "                id          age    education   cigsPerDay       BPMeds  \\\n",
            "count  3390.000000  3390.000000  3303.000000  3368.000000  3346.000000   \n",
            "mean   1694.500000    49.542183     1.970936     9.069477     0.029886   \n",
            "std     978.753033     8.592878     1.019081    11.879078     0.170299   \n",
            "min       0.000000    32.000000     1.000000     0.000000     0.000000   \n",
            "25%     847.250000    42.000000     1.000000     0.000000     0.000000   \n",
            "50%    1694.500000    49.000000     2.000000     0.000000     0.000000   \n",
            "75%    2541.750000    56.000000     3.000000    20.000000     0.000000   \n",
            "max    3389.000000    70.000000     4.000000    70.000000     1.000000   \n",
            "\n",
            "       prevalentStroke  prevalentHyp     diabetes      totChol       sysBP  \\\n",
            "count      3390.000000   3390.000000  3390.000000  3352.000000  3390.00000   \n",
            "mean          0.006490      0.315339     0.025664   237.074284   132.60118   \n",
            "std           0.080309      0.464719     0.158153    45.247430    22.29203   \n",
            "min           0.000000      0.000000     0.000000   107.000000    83.50000   \n",
            "25%           0.000000      0.000000     0.000000   206.000000   117.00000   \n",
            "50%           0.000000      0.000000     0.000000   234.000000   128.50000   \n",
            "75%           0.000000      1.000000     0.000000   264.000000   144.00000   \n",
            "max           1.000000      1.000000     1.000000   696.000000   295.00000   \n",
            "\n",
            "             diaBP          BMI    heartRate      glucose   TenYearCHD  \n",
            "count  3390.000000  3376.000000  3389.000000  3086.000000  3390.000000  \n",
            "mean     82.883038    25.794964    75.977279    82.086520     0.150737  \n",
            "std      12.023581     4.115449    11.971868    24.244753     0.357846  \n",
            "min      48.000000    15.960000    45.000000    40.000000     0.000000  \n",
            "25%      74.500000    23.020000    68.000000    71.000000     0.000000  \n",
            "50%      82.000000    25.380000    75.000000    78.000000     0.000000  \n",
            "75%      90.000000    28.040000    83.000000    87.000000     0.000000  \n",
            "max     142.500000    56.800000   143.000000   394.000000     1.000000  \n"
          ]
        }
      ],
      "source": [
        "df = pd.read_csv('/Data_cardiovascular_risk.csv')\n",
        "print(df.head())  # show the first few rows\n",
        "print(df.info())  # show dataset information\n",
        "print(df.describe())  # show summary statistics"
      ]
    },
    {
      "cell_type": "code",
      "execution_count": null,
      "metadata": {
        "colab": {
          "base_uri": "https://localhost:8080/"
        },
        "id": "G-6WOUHEyfxL",
        "outputId": "dae29e80-0f43-46d2-a130-f1896f09f6d3"
      },
      "outputs": [
        {
          "name": "stdout",
          "output_type": "stream",
          "text": [
            "id                 0\n",
            "age                0\n",
            "education          0\n",
            "sex                0\n",
            "is_smoking         0\n",
            "cigsPerDay         0\n",
            "BPMeds             0\n",
            "prevalentStroke    0\n",
            "prevalentHyp       0\n",
            "diabetes           0\n",
            "totChol            0\n",
            "sysBP              0\n",
            "diaBP              0\n",
            "BMI                0\n",
            "heartRate          0\n",
            "glucose            0\n",
            "TenYearCHD         0\n",
            "dtype: int64\n",
            "id                 0\n",
            "age                0\n",
            "education          0\n",
            "sex                0\n",
            "is_smoking         0\n",
            "cigsPerDay         0\n",
            "BPMeds             0\n",
            "prevalentStroke    0\n",
            "prevalentHyp       0\n",
            "diabetes           0\n",
            "totChol            0\n",
            "sysBP              0\n",
            "diaBP              0\n",
            "BMI                0\n",
            "heartRate          0\n",
            "glucose            0\n",
            "TenYearCHD         0\n",
            "dtype: int64\n"
          ]
        }
      ],
      "source": [
        "# Handle missing values\n",
        "for col in df.columns:\n",
        "  if df[col].dtype in ['int64', 'float64']:  # Check if column is numeric\n",
        "      df[col].fillna(df[col].mean(), inplace=True)  # Fill missing values with mean\n",
        "\n",
        "  else:\n",
        "      df[col].fillna(df[col].mode()[0], inplace=True)  # Fill missing values with mode\n",
        "\n",
        "      print(df.isnull().sum())"
      ]
    },
    {
      "cell_type": "code",
      "execution_count": null,
      "metadata": {
        "colab": {
          "base_uri": "https://localhost:8080/"
        },
        "id": "aUDNrZzby8ri",
        "outputId": "b97385f4-6198-4ca6-b983-2306285e0697"
      },
      "outputs": [
        {
          "name": "stdout",
          "output_type": "stream",
          "text": [
            "   id  age  education  cigsPerDay  BPMeds  totChol  sysBP  diaBP        BMI  \\\n",
            "0   0   64        2.0         3.0     0.0    221.0  148.0   85.0  25.794964   \n",
            "1   1   36        4.0         0.0     0.0    212.0  168.0   98.0  29.770000   \n",
            "2   2   46        1.0        10.0     0.0    250.0  116.0   71.0  20.350000   \n",
            "3   3   50        1.0        20.0     0.0    233.0  158.0   88.0  28.260000   \n",
            "4   4   64        1.0        30.0     0.0    241.0  136.5   85.0  26.420000   \n",
            "\n",
            "   heartRate  ...  sex_F  sex_M  is_smoking_NO  is_smoking_YES  \\\n",
            "0       90.0  ...   True  False          False            True   \n",
            "1       72.0  ...  False   True           True           False   \n",
            "2       88.0  ...   True  False          False            True   \n",
            "3       68.0  ...  False   True          False            True   \n",
            "4       70.0  ...   True  False          False            True   \n",
            "\n",
            "   prevalentStroke_0  prevalentStroke_1  prevalentHyp_0  prevalentHyp_1  \\\n",
            "0               True              False            True           False   \n",
            "1               True              False           False            True   \n",
            "2               True              False            True           False   \n",
            "3               True              False           False            True   \n",
            "4               True              False            True           False   \n",
            "\n",
            "   diabetes_0  diabetes_1  \n",
            "0        True       False  \n",
            "1        True       False  \n",
            "2        True       False  \n",
            "3        True       False  \n",
            "4        True       False  \n",
            "\n",
            "[5 rows x 22 columns]\n"
          ]
        }
      ],
      "source": [
        "categorical_cols = ['sex', 'is_smoking', 'prevalentStroke', 'prevalentHyp', 'diabetes']  # Correct column names\n",
        "df = pd.get_dummies(df, columns=categorical_cols)\n",
        "print(df.head())"
      ]
    },
    {
      "cell_type": "code",
      "execution_count": null,
      "metadata": {
        "colab": {
          "base_uri": "https://localhost:8080/"
        },
        "id": "2L53YHMVzlj6",
        "outputId": "9fe318c1-53c3-42ea-db9d-51fe19212287"
      },
      "outputs": [
        {
          "name": "stdout",
          "output_type": "stream",
          "text": [
            "   id       age  education  cigsPerDay   BPMeds   totChol     sysBP     diaBP  \\\n",
            "0   0  1.682783   0.028898   -0.512681 -0.17667 -0.357314  0.690879  0.176093   \n",
            "1   1 -1.576210   2.017431   -0.766087 -0.17667 -0.557375  1.588193  1.257462   \n",
            "2   2 -0.412284  -0.965369    0.078600 -0.17667  0.287325 -0.744824 -0.988457   \n",
            "3   3  0.053287  -0.965369    0.923287 -0.17667 -0.090567  1.139536  0.425640   \n",
            "4   4  1.682783  -0.965369    1.767973 -0.17667  0.087264  0.174923  0.176093   \n",
            "\n",
            "            BMI  heartRate  ...  sex_F  sex_M  is_smoking_NO  is_smoking_YES  \\\n",
            "0 -8.651790e-16   1.171652  ...   True  False          False            True   \n",
            "1  9.680255e-01  -0.332317  ...  False   True           True           False   \n",
            "2 -1.325992e+00   1.004544  ...   True  False          False            True   \n",
            "3  6.003008e-01  -0.666532  ...  False   True          False            True   \n",
            "4  1.522126e-01  -0.499424  ...   True  False          False            True   \n",
            "\n",
            "   prevalentStroke_0  prevalentStroke_1  prevalentHyp_0  prevalentHyp_1  \\\n",
            "0               True              False            True           False   \n",
            "1               True              False           False            True   \n",
            "2               True              False            True           False   \n",
            "3               True              False           False            True   \n",
            "4               True              False            True           False   \n",
            "\n",
            "   diabetes_0  diabetes_1  \n",
            "0        True       False  \n",
            "1        True       False  \n",
            "2        True       False  \n",
            "3        True       False  \n",
            "4        True       False  \n",
            "\n",
            "[5 rows x 22 columns]\n"
          ]
        }
      ],
      "source": [
        "# Correct the column names based on the output of df.head() after one-hot encoding\n",
        "scaler = StandardScaler()\n",
        "# Adjust the column names below to match the actual names in your DataFrame\n",
        "df[['age', 'education', 'cigsPerDay', 'BPMeds', 'totChol', 'sysBP', 'diaBP', 'BMI', 'heartRate', 'glucose']] = scaler.fit_transform(df[['age', 'education', 'cigsPerDay', 'BPMeds', 'totChol', 'sysBP', 'diaBP', 'BMI', 'heartRate', 'glucose']])\n",
        "print(df.head())"
      ]
    },
    {
      "cell_type": "code",
      "execution_count": null,
      "metadata": {
        "colab": {
          "background_save": true
        },
        "id": "6ynWYD7Nz0sj"
      },
      "outputs": [],
      "source": [
        "X = df.drop('TenYearCHD', axis=1)  # features\n",
        "y = df['TenYearCHD']  # target variable\n",
        "\n",
        "X_train, X_test, y_train, y_test = train_test_split(X, y, test_size=0.2, random_state=42)  # split data into training and testing sets\n"
      ]
    },
    {
      "cell_type": "code",
      "execution_count": null,
      "metadata": {
        "colab": {
          "base_uri": "https://localhost:8080/"
        },
        "id": "U73Qbck7z_IB",
        "outputId": "cae64c19-556b-4c1b-badf-e5c3b4b19b24"
      },
      "outputs": [
        {
          "name": "stdout",
          "output_type": "stream",
          "text": [
            "Accuracy: 0.8687315634218289\n"
          ]
        },
        {
          "name": "stderr",
          "output_type": "stream",
          "text": [
            "/usr/local/lib/python3.10/dist-packages/sklearn/linear_model/_logistic.py:458: ConvergenceWarning: lbfgs failed to converge (status=1):\n",
            "STOP: TOTAL NO. of ITERATIONS REACHED LIMIT.\n",
            "\n",
            "Increase the number of iterations (max_iter) or scale the data as shown in:\n",
            "    https://scikit-learn.org/stable/modules/preprocessing.html\n",
            "Please also refer to the documentation for alternative solver options:\n",
            "    https://scikit-learn.org/stable/modules/linear_model.html#logistic-regression\n",
            "  n_iter_i = _check_optimize_result(\n"
          ]
        }
      ],
      "source": [
        "log_reg = LogisticRegression()\n",
        "log_reg.fit(X_train, y_train)\n",
        "y_pred = log_reg.predict(X_test)\n",
        "accuracy = accuracy_score(y_test, y_pred)\n",
        "print(\"Accuracy:\", accuracy)"
      ]
    },
    {
      "cell_type": "code",
      "execution_count": null,
      "metadata": {
        "colab": {
          "base_uri": "https://localhost:8080/"
        },
        "id": "lNDUvJl60CyC",
        "outputId": "e095e856-0c0a-4481-e9ac-2b1f99d93a41"
      },
      "outputs": [
        {
          "name": "stdout",
          "output_type": "stream",
          "text": [
            "Accuracy: 0.8687315634218289\n",
            "Classification Report:\n",
            "              precision    recall  f1-score   support\n",
            "\n",
            "           0       0.87      1.00      0.93       581\n",
            "           1       0.83      0.10      0.18        97\n",
            "\n",
            "    accuracy                           0.87       678\n",
            "   macro avg       0.85      0.55      0.56       678\n",
            "weighted avg       0.86      0.87      0.82       678\n",
            "\n",
            "Confusion Matrix:\n",
            "[[579   2]\n",
            " [ 87  10]]\n"
          ]
        }
      ],
      "source": [
        "y_pred = log_reg.predict(X_test)\n",
        "\n",
        "print(\"Accuracy:\", accuracy_score(y_test, y_pred))\n",
        "print(\"Classification Report:\")\n",
        "print(classification_report(y_test, y_pred))\n",
        "print(\"Confusion Matrix:\")\n",
        "print(confusion_matrix(y_test, y_pred))\n"
      ]
    },
    {
      "cell_type": "code",
      "execution_count": null,
      "metadata": {
        "colab": {
          "base_uri": "https://localhost:8080/"
        },
        "id": "0zRMkO878-uE",
        "outputId": "8f28e880-1517-4889-bdd7-c407b2e1cdcd"
      },
      "outputs": [
        {
          "name": "stdout",
          "output_type": "stream",
          "text": [
            "Predicted risk of heart disease: 1\n"
          ]
        }
      ],
      "source": [
        "# Correct the column names in the new_patient DataFrame\n",
        "new_patient = pd.DataFrame({\n",
        "    'age': [45], 'education': [12], 'sex': ['male'], 'is_smoking': [1],\n",
        "    'cigsPerDay': [10], 'BPMeds': [1], 'prevalentStroke': [0],\n",
        "    'prevalentHyp': [1], 'diabetes': [0], 'totChol': [200],\n",
        "    'sysBP': [120], 'diaBP': [80], 'BMI': [25], 'heartRate': [70],\n",
        "    'glucose': [100]\n",
        "                    })\n",
        "\n",
        "# One-hot encode the categorical variables in the new patient DataFrame\n",
        "new_patient = pd.get_dummies(new_patient, columns=['sex', 'is_smoking']) # One-hot encode categorical features\n",
        "\n",
        "# Ensure all columns used during training are present in the new patient data\n",
        "for col in X_train.columns:\n",
        "     if col not in new_patient.columns:\n",
        "            new_patient[col] = 0  # Add missing columns and fill with 0\n",
        "\n",
        "# Reorder columns to match the training data\n",
        "new_patient = new_patient[X_train.columns]\n",
        "\n",
        "# Fit the scaler to the TRAINING data and then transform BOTH training and new data\n",
        "scaler = StandardScaler()\n",
        "X_train_transformed = scaler.fit_transform(X_train) # Fit and transform the training data\n",
        "new_patient_transformed = scaler.transform(new_patient) # Transform the new patient data using the fitted scaler\n",
        "\n",
        "# Retrain the model with the scaled training data\n",
        "og_reg = LogisticRegression()\n",
        "log_reg.fit(X_train_transformed, y_train)\n",
        "\n",
        "# Make the prediction\n",
        "prediction = log_reg.predict(new_patient_transformed)\n",
        "print(\"Predicted risk of heart disease:\", prediction[0])"
      ]
    }
  ],
  "metadata": {
    "colab": {
      "provenance": []
    },
    "kernelspec": {
      "display_name": "Python 3",
      "name": "python3"
    },
    "language_info": {
      "name": "python"
    }
  },
  "nbformat": 4,
  "nbformat_minor": 0
}